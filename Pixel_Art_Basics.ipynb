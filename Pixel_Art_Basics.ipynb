{
  "nbformat": 4,
  "nbformat_minor": 0,
  "metadata": {
    "colab": {
      "name": "Pixel Art Basics.ipynb",
      "provenance": [],
      "collapsed_sections": [],
      "include_colab_link": true
    },
    "kernelspec": {
      "name": "python3",
      "display_name": "Python 3"
    },
    "language_info": {
      "name": "python"
    }
  },
  "cells": [
    {
      "cell_type": "markdown",
      "metadata": {
        "id": "view-in-github",
        "colab_type": "text"
      },
      "source": [
        "<a href=\"https://colab.research.google.com/github/higgsbelly/bitGANs-Generator/blob/main/Pixel_Art_Basics.ipynb\" target=\"_parent\"><img src=\"https://colab.research.google.com/assets/colab-badge.svg\" alt=\"Open In Colab\"/></a>"
      ]
    },
    {
      "cell_type": "code",
      "execution_count": null,
      "metadata": {
        "id": "aXdKb9n8CkkK"
      },
      "outputs": [],
      "source": [
        "import os\n",
        "import random\n",
        "import shutil\n",
        "\n",
        "from PIL import Image, ImageDraw, ImageOps"
      ]
    },
    {
      "cell_type": "markdown",
      "source": [
        "This helper function will draw a pixel at the location (x, y). Remember that (0, 0) is the TOP-LEFT corner of the canvas. For bitGANs, I assume a canvas size of 32x32 pixels."
      ],
      "metadata": {
        "id": "UIyDGWrdC5t6"
      }
    },
    {
      "cell_type": "code",
      "source": [
        "def draw_pixel(img, x, y, color, pixel_size=16):\n",
        "  draw = ImageDraw.Draw(img)\n",
        "  draw.rectangle([(x*pixel_size, y*pixel_size), ((x+1)*pixel_size-1, (y+1)*pixel_size-1)], fill=color)\n",
        "  return img"
      ],
      "metadata": {
        "id": "5FcHPLDSszyS"
      },
      "execution_count": null,
      "outputs": []
    },
    {
      "cell_type": "markdown",
      "source": [
        "This helper function displays colors in a palette and also demonstrates how to use the `draw_pixel()`. The argument, `pal`, is an array of colors. I found this website hepful for finding palettes: https://coolors.co/palettes/trending"
      ],
      "metadata": {
        "id": "eOucEO99DHwj"
      }
    },
    {
      "cell_type": "code",
      "source": [
        "def print_palette(pal):\n",
        "  img = Image.new('RGB', (len(pal)*16, 16))\n",
        "  for i in range(len(pal)):\n",
        "    img = draw_pixel(img, i, 0, pal[i])\n",
        "  return img"
      ],
      "metadata": {
        "id": "aZRjOPqAeT4I"
      },
      "execution_count": null,
      "outputs": []
    },
    {
      "cell_type": "code",
      "source": [
        "# hot pink, purple, and blue\n",
        "pal = [\"#f72585\",\"#b5179e\",\"#7209b7\",\"#560bad\",\"#480ca8\",\"#3a0ca3\",\"#3f37c9\",\"#4361ee\",\"#4895ef\",\"#4cc9f0\"]\n",
        "img = print_palette(pal)\n",
        "img"
      ],
      "metadata": {
        "colab": {
          "base_uri": "https://localhost:8080/",
          "height": 34
        },
        "id": "rZda9gu9wW6c",
        "outputId": "6b4d8d0c-d171-4b95-8e71-617080708a4e"
      },
      "execution_count": null,
      "outputs": [
        {
          "output_type": "execute_result",
          "data": {
            "text/plain": [
              "<PIL.Image.Image image mode=RGB size=160x16 at 0x7F86C2D61890>"
            ],
            "image/png": "[encoded data removed]"
          },
          "metadata": {},
          "execution_count": 13
        }
      ]
    },
    {
      "cell_type": "markdown",
      "source": [
        "This helpful function is useful if you want to create a rectangle using the pixel coordinates."
      ],
      "metadata": {
        "id": "udZR-M0KEFXA"
      }
    },
    {
      "cell_type": "code",
      "source": [
        "def draw_rectangle(img, x1, y1, x2, y2, color, pixel_size=16):\n",
        "  if x1 == x2:\n",
        "    return img\n",
        "  \n",
        "  if y1 == y2:\n",
        "    return img\n",
        "    \n",
        "  draw = ImageDraw.Draw(img)\n",
        "  draw.rectangle([(x1*pixel_size, y1*pixel_size), (x2*pixel_size-1, y2*pixel_size-1)], fill=color)\n",
        "  return img"
      ],
      "metadata": {
        "id": "CknbXUi2ebTh"
      },
      "execution_count": null,
      "outputs": []
    },
    {
      "cell_type": "markdown",
      "source": [
        "For bitGANs, I generally assume a canvas size of 32x32 pixels. These dimensions are multiplied by the pixels size to create the canvas."
      ],
      "metadata": {
        "id": "hWXpRXQrEPMr"
      }
    },
    {
      "cell_type": "code",
      "source": [
        "pixel_size = 8\n",
        "\n",
        "img = Image.new('RGB', (32*pixel_size, 32*pixel_size), color='#ffffff')\n",
        "img"
      ],
      "metadata": {
        "colab": {
          "base_uri": "https://localhost:8080/",
          "height": 273
        },
        "id": "aw3u9KRgEZGc",
        "outputId": "e9fe517e-8bae-4d37-e4e6-d00c78203b6b"
      },
      "execution_count": null,
      "outputs": [
        {
          "output_type": "execute_result",
          "data": {
            "text/plain": [
              "<PIL.Image.Image image mode=RGB size=256x256 at 0x7F86C2CE2E90>"
            ],
            "image/png": "[encoded data removed]"
          },
          "metadata": {},
          "execution_count": 14
        }
      ]
    },
    {
      "cell_type": "markdown",
      "source": [
        "Now we can draw something! Let's create a column of pixels whose color changes based on random chance. \n",
        "* 1/3 chance of ending\n",
        "* 1/3 chance of propagating the same color\n",
        "* 1/3 chance of changing color\n",
        "\n",
        "The column will start at (x, y) and proceed downward."
      ],
      "metadata": {
        "id": "FW8EChe_Eitj"
      }
    },
    {
      "cell_type": "code",
      "source": [
        "def draw_flame(img, x, y, pal, pixel_size=16):\n",
        "  # NOTE: my canvases are always 32\n",
        "\n",
        "  i = 0\n",
        "  h = y\n",
        "  while (i < len(pal)) and (h < 32):\n",
        "    img = draw_pixel(img, x, h, pal[i], pixel_size=pixel_size)\n",
        "    h = h + 1\n",
        "\n",
        "    # get a random number between 0 and 1\n",
        "    draw = random.uniform(0, 1)\n",
        "\n",
        "    # if that number is less than 1/3, continue looping\n",
        "    if draw < 1/3:\n",
        "      continue\n",
        "\n",
        "    # if that number is less than 2/3, change color by incrementing the palette index\n",
        "    elif draw < 2/3:\n",
        "      i = i + 1\n",
        "    \n",
        "    # otherwise end \n",
        "    else:\n",
        "      break\n",
        "\n",
        "  return img"
      ],
      "metadata": {
        "id": "7h1dP-elztjS"
      },
      "execution_count": null,
      "outputs": []
    },
    {
      "cell_type": "code",
      "source": [
        "pixel_size = 8\n",
        "img = Image.new('RGB', (32*pixel_size, 32*pixel_size), color='#ffffff')\n",
        "img = draw_flame(img, 10, 10, pal, pixel_size)\n",
        "img"
      ],
      "metadata": {
        "colab": {
          "base_uri": "https://localhost:8080/",
          "height": 273
        },
        "id": "z9Zi0ssoEiMH",
        "outputId": "389b664e-6fff-4a37-aafd-5e85294922f1"
      },
      "execution_count": null,
      "outputs": [
        {
          "output_type": "execute_result",
          "data": {
            "text/plain": [
              "<PIL.Image.Image image mode=RGB size=256x256 at 0x7F86C2CDE450>"
            ],
            "image/png": "[encoded data removed]"
          },
          "metadata": {},
          "execution_count": 18
        }
      ]
    },
    {
      "cell_type": "markdown",
      "source": [
        "Here's how you can use random numbers to specify the starting location for the line. While we're at it. Let's make 10 random lines."
      ],
      "metadata": {
        "id": "XmDw1VYDXr7m"
      }
    },
    {
      "cell_type": "code",
      "source": [
        "pixel_size = 8\n",
        "img = Image.new('RGB', (32*pixel_size, 32*pixel_size), color='#ffffff')\n",
        "\n",
        "# how many lines should we make?\n",
        "n = 10\n",
        "\n",
        "# make the lines\n",
        "for i in range(n):\n",
        "  # let's pick a random location on the x-axis\n",
        "  x = random.randrange(32)\n",
        "\n",
        "  # let's pick a random location on the y-axis\n",
        "  y = random.randrange(32)\n",
        "\n",
        "  # okay, let's draw something\n",
        "  img = draw_flame(img, x, y, pal, pixel_size)\n",
        "\n",
        "img"
      ],
      "metadata": {
        "colab": {
          "base_uri": "https://localhost:8080/",
          "height": 273
        },
        "id": "Ei2be_KiX1PP",
        "outputId": "581aec9a-8332-48f2-dd3a-e8422c6d32bf"
      },
      "execution_count": null,
      "outputs": [
        {
          "output_type": "execute_result",
          "data": {
            "text/plain": [
              "<PIL.Image.Image image mode=RGB size=256x256 at 0x7F86C2CEF490>"
            ],
            "image/png": "[encoded data removed]"
          },
          "metadata": {},
          "execution_count": 20
        }
      ]
    },
    {
      "cell_type": "markdown",
      "source": [
        "Wow! Looks like rain!"
      ],
      "metadata": {
        "id": "vMuRAkSPYVS9"
      }
    }
  ]
}
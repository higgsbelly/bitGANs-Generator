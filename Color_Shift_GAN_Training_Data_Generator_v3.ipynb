{
  "nbformat": 4,
  "nbformat_minor": 0,
  "metadata": {
    "colab": {
      "name": "Color Shift GAN Training Data Generator-v3.ipynb",
      "provenance": [],
      "collapsed_sections": [],
      "include_colab_link": true
    },
    "kernelspec": {
      "name": "python3",
      "display_name": "Python 3"
    },
    "language_info": {
      "name": "python"
    }
  },
  "cells": [
    {
      "cell_type": "markdown",
      "metadata": {
        "id": "view-in-github",
        "colab_type": "text"
      },
      "source": [
        "<a href=\"https://colab.research.google.com/github/higgsbelly/bitGANs-Generator/blob/main/Color_Shift_GAN_Training_Data_Generator_v3.ipynb\" target=\"_parent\"><img src=\"https://colab.research.google.com/assets/colab-badge.svg\" alt=\"Open In Colab\"/></a>"
      ]
    },
    {
      "cell_type": "markdown",
      "source": [
        "Another notebook to help on your journey to making your own BitGANs, but a generally usefule tool for genrative pixel art!\n",
        "\n",
        "To start, you need your layers organized in the follwoing way. \n",
        "\n",
        "\n",
        "*   assets\n",
        " *   0-background\n",
        " *   1-texture\n",
        " *   2-body\n",
        " *   3-face\n",
        " *   4-head\n",
        " *   5-overlay\n",
        "\n",
        "The number represents the order you would like that layer pasted to the canvas. \n",
        "\n",
        "For an example see: https://drive.google.com/drive/folders/10CwNXNfTMd5wsLMnNGFr2lDzgESUOdvD?usp=sharing\n",
        "\n",
        "Next you will need to specify how many training images you would like to create. This is done by changing the number next to the **Num** variable below. ie **Num = 20** to make 20 training images. \n",
        "\n",
        "You will need to create a second folder **Train_Data** where your training images will be saved. Both folders **assets** and **Train_Data** need to be in your main drive. \n",
        "\n",
        "Once you are happy with your training inmages, take them over to BitGAN Generator and see how turn out!\n",
        "\n",
        "This document is still being editted...\n",
        "\n",
        "\n",
        "\n",
        "\n",
        "\n",
        "Mount your drive, grant permissions. Make a copy if you plan to make edits."
      ],
      "metadata": {
        "id": "CGDJVn2ZxU-a"
      }
    },
    {
      "cell_type": "code",
      "source": [
        "try:\n",
        "    from google.colab import drive\n",
        "    drive.mount('/content/drive/', force_remount=True)\n",
        "    COLAB = True\n",
        "    print(\"Note: using Google CoLab\")\n",
        "except:\n",
        "    print(\"Note: not using Google CoLab\")\n",
        "    COLAB = False"
      ],
      "metadata": {
        "colab": {
          "base_uri": "https://localhost:8080/"
        },
        "id": "OpupC2WPxP_m",
        "outputId": "cb580c1c-36c2-4445-f788-a0df8a825ca8"
      },
      "execution_count": 1,
      "outputs": [
        {
          "output_type": "stream",
          "name": "stdout",
          "text": [
            "Mounted at /content/drive/\n",
            "Note: using Google CoLab\n"
          ]
        }
      ]
    },
    {
      "cell_type": "markdown",
      "source": [
        "All you need to edit below is **Num = (number of images you want), px = (size of images you want, needs to be multiple of 2)**, and **dx (what half the distance between the center of the eyes is, your left right shift)** \n",
        "\n",
        "The code below will only build your images. To build your images with a spectrum, execute the code block below this one."
      ],
      "metadata": {
        "id": "f9yo455NxgSa"
      }
    },
    {
      "cell_type": "code",
      "source": [
        "import random\n",
        "import os\n",
        "import shutil\n",
        "\n",
        "from PIL import Image"
      ],
      "metadata": {
        "id": "lDfaNJecHVBS"
      },
      "execution_count": 2,
      "outputs": []
    },
    {
      "cell_type": "markdown",
      "source": [
        "These are the color palettes, which we set up in advance."
      ],
      "metadata": {
        "id": "6t3-8oB2OcHw"
      }
    },
    {
      "cell_type": "code",
      "source": [
        "# colors by name\n",
        "MAGENTA   = [255,1,191] #ff01bf\n",
        "PINK      = [255,1,98] #ff0162\n",
        "RED       = [255,1,1] #ff0101\n",
        "ORANGE    = [255,94,1] #ff5e01\n",
        "AMBER     = [255,191,1] #ffc001 \n",
        "YELLOW    = [255,1,1] #ffff01\n",
        "LIME      = [128,255,1] #80ff01\n",
        "GREEN     = [1,255,1] #01ff01\n",
        "MINT      = [1,255,157] #01ff9d\n",
        "TURQUOISE = [1,255,255] #01ffff\n",
        "CYAN      = [1,161,255] #01a1ff\n",
        "BLUE      = [1,1,255] #0101ff\n",
        "PURPLE    = [128,1,255] #80019b\n",
        "VIOLET    = [221,1,255] #dd01ff\n",
        "WHITE     = [254,254,254] #fefefe\n",
        "GRAY      = [128,128,128] #888888\n",
        "BLACK     = [1,1,1] #010101\n",
        "\n",
        "# create arrays of color for each layer\n",
        "background_color = [ CYAN, MAGENTA, YELLOW ]\n",
        "texture_color =    [ MINT, TURQUOISE, CYAN, BLUE, PURPLE ]\n",
        "body_color =       [ GREEN, MINT, TURQUOISE, CYAN, BLUE, PURPLE, VIOLET ] \n",
        "head_color =       [ MAGENTA, AMBER, LIME, TURQUOISE, VIOLET ]\n",
        "face_color =       [ MAGENTA, RED, LIME, GREEN, TURQUOISE, BLUE, PURPLE, VIOLET ]\n",
        "overlay_color =    [ MAGENTA, PINK, RED, AMBER, ORANGE, YELLOW, LIME, GREEN, MINT, TURQUOISE, CYAN, BLUE, PURPLE, VIOLET ]\n",
        "\n",
        "# NOTE: We will assume the assets (and their directories) are in this order.\n",
        "# When naming folders with assets, previx the folder names with 0, 1, 2, etc.\n",
        "# to guarantee their order.\n",
        "asset_list = [background_color, texture_color, body_color, head_color, face_color, overlay_color]\n",
        "\n",
        "# this function changes the primary color, making it \"ultralight\"\n",
        "def makeUltralight(rgb):\n",
        "  uRed = (rgb[0])+((255-rgb[0])*0.9)\n",
        "  uGreen = (rgb[1])+((255-rgb[1])*0.9)\n",
        "  uBlue = (rgb[2])+((255-rgb[2])*0.9)\n",
        "  return [uRed, uGreen, uBlue]\n",
        "\n",
        "# this function changes the primary color, making it \"muted\"\n",
        "def makeMuted(rgb):\n",
        "  mRed = ((rgb[0])+((255-rgb[0])*0.5))*0.5\n",
        "  mGreen = ((rgb[1])+((255-rgb[1])*0.5))*0.5\n",
        "  mBlue = ((rgb[2])+((255-rgb[2])*0.5))*0.5\n",
        "  return [mRed, mGreen, mBlue]\n",
        "\n",
        "# this function changes the primary color, making it \"light\"\n",
        "def makeLight(rgb):\n",
        "  lRed = (rgb[0])+((255-rgb[0])*0.5)\n",
        "  lGreen = (rgb[1])+((255-rgb[1])*0.5)\n",
        "  lBlue = (rgb[2])+((255-rgb[2])*0.5)\n",
        "  return [lRed, lGreen, lBlue]\n",
        "\n",
        "# this function changes the primary color, making it \"dark\"\n",
        "def makeDark(rgb):\n",
        "  dRed = (rgb[0])*0.66\n",
        "  dGreen = (rgb[1])*0.66\n",
        "  dBlue = (rgb[2])*0.66\n",
        "  return [dRed, dGreen, dBlue]"
      ],
      "metadata": {
        "id": "x2PpoQR6DgWx"
      },
      "execution_count": 3,
      "outputs": []
    },
    {
      "cell_type": "code",
      "source": [
        "def color_shift(color_old, color_new):\n",
        "  # In each layer, all pixels that are pure black, red, green, and blue will be \n",
        "  # replaced by different versions of the default palette.\n",
        "\n",
        "  # white pixels (255,255,255) will be replaced by an ULTRALIGHT version of the color\n",
        "  if color_old == (255, 255, 255):\n",
        "    color_new = makeUltralight(color_new)\n",
        "\n",
        "  # black pixels (0,0,0) will be replaced by a MUTED version of the color\n",
        "  if color_old == (0, 0, 0):\n",
        "    color_new = makeMuted(color_new)\n",
        "\n",
        "  # green pixels (0,255,0) will be replaced by a LIGHT version of the color\n",
        "  if color_old == (0, 255, 0):\n",
        "    color_new = makeLight(color_new)\n",
        "\n",
        "  # red pixels (255,0,0) will be replaced by the DEFAULT version of the color\n",
        "  if color_old == (255, 0, 0):\n",
        "    color_new = color_new\n",
        "  \n",
        "  # blue pixels (0,0,255) will be replaced by a DARK version of the color\n",
        "  if color_old == (0, 0, 255):\n",
        "    color_new = makeDark(color_new)\n",
        "\n",
        "  color_new = [round(num) for num in color_new]\n",
        "  return tuple(color_new)"
      ],
      "metadata": {
        "id": "jcusB1Ur74qt"
      },
      "execution_count": 4,
      "outputs": []
    },
    {
      "cell_type": "code",
      "source": [
        "def color_shift_img(img, colors):\n",
        "  pixdata = img.load()\n",
        "\n",
        "  colors_new = dict()\n",
        "  for y in range(32):\n",
        "    for x in range(32):\n",
        "      color_old = pixdata[x, y]\n",
        "      \n",
        "      # if transparent, skip\n",
        "      if color_old[3] == 0:\n",
        "        continue\n",
        "      \n",
        "      # use a dictionary to track colors\n",
        "      if color_old not in colors_new:\n",
        "        colors_new[color_old] = random.choice(colors)\n",
        "\n",
        "      pixdata[x, y] = color_shift(color_old[0:3], colors_new[color_old])\n",
        "\n",
        "  return(img)"
      ],
      "metadata": {
        "id": "JVfj4u7JCUSZ"
      },
      "execution_count": 5,
      "outputs": []
    },
    {
      "cell_type": "code",
      "source": [
        "def make_image(imput_dir, d, px, d_x, b_x):\n",
        "  img = Image.new('RGBA', (32, 32))\n",
        "  shift_index = [0,1,2,2,2,2]\n",
        "  j = 0\n",
        "  d_x = d_x*random.randint(-1,1)\n",
        "  b_x = b_x*random.randint(-1,1)\n",
        "\n",
        "  for key, val in d.items():\n",
        "    tmp = Image.open(os.path.join(input_dir, key, random.choice(val))).convert('RGBA')\n",
        "\n",
        "    # this might not always work\n",
        "    i = int(key[0])    \n",
        "    tmp = color_shift_img(tmp, asset_list[i])\n",
        "\n",
        "    if shift_index[j] == 0:\n",
        "      img.paste(tmp, (0,0), tmp)\n",
        "    elif shift_index[j] == 1:\n",
        "      img.paste(tmp, (b_x,0), tmp)\n",
        "    else:\n",
        "      img.paste(tmp, (d_x,0), tmp)\n",
        "    j += 1\n",
        "    \n",
        "  img = img.resize((px, px), resample = 0)\n",
        "  return(img)"
      ],
      "metadata": {
        "id": "r1ywwRbeQHau"
      },
      "execution_count": 6,
      "outputs": []
    },
    {
      "cell_type": "code",
      "source": [
        "# where your not so shifted training data lives\n",
        "input_dir = '/content/drive/MyDrive/bitgan_folders/assets/' \n",
        "\n",
        "# where you want to save the shifted pngs\n",
        "output_dir = '/content/drive/MyDrive/bitgan_folders/output/' "
      ],
      "metadata": {
        "id": "0UmwTxQ_H0f-"
      },
      "execution_count": 8,
      "outputs": []
    },
    {
      "cell_type": "markdown",
      "source": [
        "Let's query the folder to see what assets exist. They are stored in a dictionary and will be accessed in order (I hope)."
      ],
      "metadata": {
        "id": "HsapJramP97t"
      }
    },
    {
      "cell_type": "code",
      "source": [
        "onlyfolders = [f for f in os.listdir(input_dir) if os.path.isdir(os.path.join(input_dir, f))] \n",
        "onlyfolders = sorted(onlyfolders)\n",
        "N = len(onlyfolders)\n",
        "\n",
        "d = {}\n",
        "d = {key: None for key in onlyfolders}\n",
        "\n",
        "for key in d:\n",
        "  temp_path = os.path.join(input_dir, key)\n",
        "  d[key] = [f for f in os.listdir(temp_path) if os.path.isfile(os.path.join(temp_path, f))]"
      ],
      "metadata": {
        "id": "XxkC-xF85Lrm"
      },
      "execution_count": 9,
      "outputs": []
    },
    {
      "cell_type": "code",
      "source": [
        "n = 1000   # Number of images you want\n",
        "px = 512 # Size you want the ouput image to be\n",
        "dx = 4 #Distance between center of eyes divided by two\n",
        "bx = 2 #Controls Background Shift\n",
        "\n",
        "# WARNING: delete and create the output directory\n",
        "shutil.rmtree(output_dir, ignore_errors=True)\n",
        "os.mkdir(output_dir)\n",
        "\n",
        "for i in range(n):\n",
        "  img = make_image(input_dir, d, px, dx, bx)\n",
        "  img.save(os.path.join(output_dir, f'{i:03}.png'))"
      ],
      "metadata": {
        "id": "TXSHmGm6G1eB"
      },
      "execution_count": 10,
      "outputs": []
    }
  ]
}
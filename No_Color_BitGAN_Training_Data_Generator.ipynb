{
  "nbformat": 4,
  "nbformat_minor": 0,
  "metadata": {
    "colab": {
      "name": "No-Color BitGAN Training Data Generator.ipynb",
      "provenance": [],
      "collapsed_sections": [],
      "authorship_tag": "ABX9TyP1FEhQ4BG5+Uxn7Absk/hK",
      "include_colab_link": true
    },
    "kernelspec": {
      "name": "python3",
      "display_name": "Python 3"
    },
    "language_info": {
      "name": "python"
    }
  },
  "cells": [
    {
      "cell_type": "markdown",
      "metadata": {
        "id": "view-in-github",
        "colab_type": "text"
      },
      "source": [
        "<a href=\"https://colab.research.google.com/github/higgsbelly/bitGANs-Generator/blob/main/No_Color_BitGAN_Training_Data_Generator.ipynb\" target=\"_parent\"><img src=\"https://colab.research.google.com/assets/colab-badge.svg\" alt=\"Open In Colab\"/></a>"
      ]
    },
    {
      "cell_type": "markdown",
      "source": [
        "# This notebook will generate art for your if you feed it the basic elements saved in a RGBA format (with transparency).\n",
        "\n",
        "#Note, all notebooks have been updated to work out of a \"**bitgan_folders**\". Build your files and folders in a bitGAN folder in your drive. drive/bitgan_folders/assets for example\n",
        "\n",
        "Another notebook to help on your journey to making your own BitGANs, but a generally usefule tool for genrative pixel art! This notebook can be used to assemble pngs that are meant to pasted on top of each other, I practiced and set it up with the traits from toadztoolz.com, you can get files that have all the layers used for cryptoadz to play with. There is drive link below with some basic bitGAN shapes.\n",
        "\n",
        "To start, you need your layers organized in the follwoing way. \n",
        "\n",
        "\n",
        "*   assets\n",
        " *   0-background\n",
        " *   1-texture\n",
        " *   2-body\n",
        " *   3-face\n",
        " *   4-head\n",
        "\n",
        "The number represents the order you would like that layer pasted to the canvas. \n",
        "\n",
        "For an example see: https://drive.google.com/drive/folders/10CwNXNfTMd5wsLMnNGFr2lDzgESUOdvD?usp=sharing\n",
        "\n",
        "Next you will need to specify how many training images you would like to create. This is done by changing the number next to the **Num** variable below. ie **Num = 20** to make 20 training images. \n",
        "\n",
        "You will need to create a second folder **assembled** where your training images will be saved. Both folders **assets** and **assembled** need to be in your **bitgan_folders** folder. \n",
        "\n",
        "Once you are happy with your training inmages, take them over to BitGAN Generator and see how turn out!\n",
        "\n",
        "This document is still being editted...\n",
        "\n",
        "\n",
        "\n",
        "\n",
        "\n",
        "Mount your drive, grant permissions. Make a copy if you plan to make edits."
      ],
      "metadata": {
        "id": "CGDJVn2ZxU-a"
      }
    },
    {
      "cell_type": "code",
      "source": [
        "try:\n",
        "    from google.colab import drive\n",
        "    drive.mount('/content/drive', force_remount=True)\n",
        "    COLAB = True\n",
        "    print(\"Note: using Google CoLab\")\n",
        "except:\n",
        "    print(\"Note: not using Google CoLab\")\n",
        "    COLAB = False"
      ],
      "metadata": {
        "colab": {
          "base_uri": "https://localhost:8080/"
        },
        "id": "OpupC2WPxP_m",
        "outputId": "4228ab3f-f7c0-4d37-a64d-499598a65ac5"
      },
      "execution_count": null,
      "outputs": [
        {
          "output_type": "stream",
          "name": "stdout",
          "text": [
            "Mounted at /content/drive\n",
            "Note: using Google CoLab\n"
          ]
        }
      ]
    },
    {
      "cell_type": "markdown",
      "source": [
        "All you need to edit below is **Num = (number of images you want), px = (size of images you want, needs to be multiple of 2)**, and **dx (what half the distance between the center of the eyes is, your left right shift)** \n",
        "\n",
        "The code below will only build your images. To build your images with a spectrum, execute the code block below this one."
      ],
      "metadata": {
        "id": "f9yo455NxgSa"
      }
    },
    {
      "cell_type": "code",
      "execution_count": null,
      "metadata": {
        "id": "pLrOZ7dow3mr"
      },
      "outputs": [],
      "source": [
        "import random\n",
        "import os\n",
        "from PIL import Image\n",
        "\n",
        "Num = 16 #Number of images you want\n",
        "px = 512 #Size you want the ouput image to be\n",
        "dx = 4 # pixels between centers of the eyes divided by twoish\n",
        "\n",
        "path_in = '/content/drive/MyDrive/bitgan_folders/assets/' #where your not so shifted training data lives\n",
        "\n",
        "path_out = '/content/drive/MyDrive/bitgan_folders/assembled/' #where you want to save the shifted pngs\n",
        "\n",
        "\n",
        "\n",
        "onlyfolders = [f for f in os.listdir(path_in) if os.path.isdir(os.path.join(path_in, f))] # read folders in, make list\n",
        "onlyfolders = sorted(onlyfolders)\n",
        "N = len(onlyfolders)\n",
        "#print(onlyfolders)\n",
        "\n",
        "d = {}\n",
        "d = {key: None for key in onlyfolders}\n",
        "\n",
        "for key in d:\n",
        "  temp_path = os.path.join(path_in, key)\n",
        "  d[key] = [f for f in os.listdir(temp_path) if os.path.isfile(os.path.join(temp_path, f))]\n",
        "\n",
        "for k in range(0,Num): #iterates through number of images you want to produce\n",
        "\n",
        "  bg = random.choice(d[onlyfolders[0]]) #randomly selects background from provided backgrounds\n",
        "  texture = random.choice(d[onlyfolders[1]]) #randomly selects a texture\n",
        "  folder_1 = os.path.join(path_in,onlyfolders[0]) # file path to background\n",
        "  folder_2 = os.path.join(path_in,onlyfolders[1]) # file path to texture\n",
        "  im_1 = Image.open(os.path.join(folder_1,bg)) # creates image for background\n",
        "  im_2 = Image.open(os.path.join(folder_2,texture))\n",
        "  im_1.paste(im_2,(0,0),im_2)\n",
        "  x = dx*(random.randint(0,1))*((-1)**(k))\n",
        "\n",
        "  for j in range(2,N): # iterates through remaining assets, why it starts at 1\n",
        "\n",
        "    png = random.choice(d[onlyfolders[j]])  #randomly selects variant from asset number one  \n",
        "    folder = os.path.join(path_in,onlyfolders[j])\n",
        "    im_3 = Image.open(os.path.join(folder,png))    \n",
        "    im_1.paste(im_3,(x,0),im_3)\n",
        "    \n",
        "  im_1 = im_1.resize((px,px), resample = 0)\n",
        "  im_1.save(os.path.join(path_out, str(k) + '.png'))\n"
      ]
    }
  ]
}
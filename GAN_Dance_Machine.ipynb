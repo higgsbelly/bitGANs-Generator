{
  "nbformat": 4,
  "nbformat_minor": 0,
  "metadata": {
    "colab": {
      "name": "GAN Dance Machine.ipynb",
      "provenance": [],
      "collapsed_sections": [],
      "authorship_tag": "ABX9TyPVeFpGhqDW7PR4daOwqtdZ",
      "include_colab_link": true
    },
    "kernelspec": {
      "name": "python3",
      "display_name": "Python 3"
    },
    "language_info": {
      "name": "python"
    }
  },
  "cells": [
    {
      "cell_type": "markdown",
      "metadata": {
        "id": "view-in-github",
        "colab_type": "text"
      },
      "source": [
        "<a href=\"https://colab.research.google.com/github/higgsbelly/bitGANs-Generator/blob/main/GAN_Dance_Machine.ipynb\" target=\"_parent\"><img src=\"https://colab.research.google.com/assets/colab-badge.svg\" alt=\"Open In Colab\"/></a>"
      ]
    },
    {
      "cell_type": "markdown",
      "source": [
        "\n",
        "# Make sure you have created a \"bitGAN\" folder in your root directory (first thing you see when you open gdrive) So your gen, train, ... folders live in the bitGAN folder now.  \n",
        "\n",
        "\n",
        "\n",
        "Mount your drive, grant permissions. Make a copy if you plan to make edits. "
      ],
      "metadata": {
        "id": "CGDJVn2ZxU-a"
      }
    },
    {
      "cell_type": "code",
      "source": [
        "try:\n",
        "    from google.colab import drive\n",
        "    drive.mount('/content/drive/', force_remount=True)\n",
        "    COLAB = True\n",
        "    print(\"Note: using Google CoLab\")\n",
        "except:\n",
        "    print(\"Note: not using Google CoLab\")\n",
        "    COLAB = False"
      ],
      "metadata": {
        "colab": {
          "base_uri": "https://localhost:8080/"
        },
        "id": "OpupC2WPxP_m",
        "outputId": "d742f8f1-8d8d-408e-a12c-286b84c9e74d"
      },
      "execution_count": null,
      "outputs": [
        {
          "output_type": "stream",
          "name": "stdout",
          "text": [
            "Mounted at /content/drive/\n",
            "Note: using Google CoLab\n"
          ]
        }
      ]
    },
    {
      "cell_type": "markdown",
      "source": [
        "This will be setup to shift GAN training data, feel free to edit for your purposes. Training data you want to shift needs to be in a folder named **Move** shifted training data is saved in a folder named **Danced**"
      ],
      "metadata": {
        "id": "f9yo455NxgSa"
      }
    },
    {
      "cell_type": "code",
      "execution_count": null,
      "metadata": {
        "id": "pLrOZ7dow3mr"
      },
      "outputs": [],
      "source": [
        "import random\n",
        "from os import listdir\n",
        "from os.path import isfile, join\n",
        "from PIL import Image\n",
        "\n",
        "drive_path = '/content/drive/MyDrive/bitGAN/Move/' #where your not so shifted training data lives\n",
        "\n",
        "path_out = '/content/drive/MyDrive/bitGAN/Danced/' #where you want to save the shifted pngs\n",
        "\n",
        "dx = 85 #half distance between pupils\n",
        "\n",
        "folder = drive_path\n",
        "onlyfiles = [f for f in listdir(folder) if isfile(join(folder, f))] # read pngs in, make list\n",
        "N = len(onlyfiles)\n",
        "\n",
        "for i in range(0,N):\n",
        "  x = dx*(random.randint(0,1))*((-1)**(i))\n",
        "  im = Image.open(folder + onlyfiles[i])\n",
        "  im = im.convert('RGBA')\n",
        "  z = im.getpixel((0,0))\n",
        "  h, w = im.size\n",
        "  im_1 = Image.new(mode = 'RGBA', size = (h,w), color = z)\n",
        "  im_1.paste(im,(x,0),im)\n",
        "  im_1.save(path_out + onlyfiles[i])  "
      ]
    }
  ]
}